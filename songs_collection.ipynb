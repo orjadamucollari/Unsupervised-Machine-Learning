{
  "cells": [
    {
      "cell_type": "code",
      "execution_count": null,
      "metadata": {
        "id": "29_QDh82GGL_"
      },
      "outputs": [],
      "source": [
        "# import libraries\n",
        "import spotipy\n",
        "from spotipy.oauth2 import SpotifyClientCredentials\n",
        "import pandas as pd\n",
        "\n",
        "# Initialize SpotiPy with user credentials\n",
        "sp = spotipy.Spotify(client_credentials_manager=SpotifyClientCredentials(\n",
        "    client_id=\"xxxxxxxxxxxxx\",\n",
        "    client_secret=\"xxxxxxxxxxxxx\"))"
      ]
    },
    {
      "cell_type": "code",
      "execution_count": null,
      "metadata": {
        "id": "7wIhUcBSGGMD"
      },
      "outputs": [],
      "source": [
        "playlists1 = [\"https://open.spotify.com/playlist/37i9dQZF1DWSV3Tk4GO2fq?si=ADZ6Lsd-RO6PehAjWLJLkw\", # 50's (150)\n",
        "             \"https://open.spotify.com/playlist/37i9dQZF1DWTJ7xPn4vNaz?si=hhKIFwYQT5aKc34GPwAgUw\", # 70's (150)\n",
        "             \"https://open.spotify.com/playlist/37i9dQZF1DX5Ejj0EkURtP?si=HCuqEq-mQ-ay6qma8VYd8g\", # 10's (150)\n",
        "             \"https://open.spotify.com/playlist/0weizyV5WNZP3tvfXWVfmg?si=vPVW0XxvRnWbzze9Uoq59A\", # hip hop (176)\n",
        "             \"https://open.spotify.com/playlist/37i9dQZF1DWWOaP4H0w5b0?si=w9oke2yERbKAoaXaxOxL2Q\", # metal (60)\n",
        "             \"https://open.spotify.com/playlist/2PjVPkj4a9kBvQIXaZ6UUt?si=v56LFtFvSeyXg-UVi-FeeA\", # opera (73)\n",
        "             \"https://open.spotify.com/playlist/37i9dQZF1DXbITWG1ZJKYt?si=CE6O5NOgTjOK71w5nS_SWQ\", # jazz (150)\n",
        "             \"https://open.spotify.com/playlist/0W8KE1NZFTl8gpd7zHoQD2?si=w-ho3k3JRVWqtCNLntCtMw\", # drum & bass (43)\n",
        "             \"https://open.spotify.com/playlist/37i9dQZF1DXbSbnqxMTGx9?si=nBC99_8lTiOhpLCsE3Hptg\", # reggae (60)\n",
        "             \"https://open.spotify.com/playlist/37i9dQZF1DWUrPBdYfoJvz?si=271dc9e5f948458c\", # ambient (94)\n",
        "             \"https://open.spotify.com/playlist/37i9dQZF1DX2EiUAL7Wdfc?si=485d469f01b9454e\", # urban latin (100)\n",
        "             \"https://open.spotify.com/playlist/43EKblqJqJtoGXvMbJgFK9?si=cfc3a538b8644678\", # gospel (81)\n",
        "             \"https://open.spotify.com/playlist/37i9dQZF1DXddGd6mP5X2a?si=7ad0ff9146444e63\" # orchestra (100)\n",
        "            ]"
      ]
    },
    {
      "cell_type": "code",
      "execution_count": null,
      "metadata": {
        "id": "WqjF6H52GGME"
      },
      "outputs": [],
      "source": [
        "playlists2 = [\"https://open.spotify.com/playlist/2FaOyGU5gIiwDpck5Ui7L9\", #portuguese music (130)\n",
        "             \"https://open.spotify.com/playlist/10h9MYW9lIRp31fawvmjE8\", #new country (76)\n",
        "             \"https://open.spotify.com/playlist/3YdCzysSu8jLNYXYaheZAF\", # primavera estiu (296)\n",
        "             \"https://open.spotify.com/playlist/6IfGK9nLC9ChgD7FTZzkLJ\", # party hits (223)\n",
        "             \"https://open.spotify.com/playlist/37i9dQZF1DWSV3Tk4GO2fq?si=ADZ6Lsd-RO6PehAjWLJLkw\", # 50's (150)\n",
        "             \"https://open.spotify.com/playlist/37i9dQZF1DXaKIA8E7WcJj?si=JYOqmQhQRqCZKIvfjDDTvw\", # 60's (150)\n",
        "             \"https://open.spotify.com/playlist/37i9dQZF1DWTJ7xPn4vNaz?si=hhKIFwYQT5aKc34GPwAgUw\", # 70's (150)\n",
        "             \"https://open.spotify.com/playlist/37i9dQZF1DX4UtSsGT1Sbe?si=GBUnpiUVR9CY6SCs58TNCg\", # 80's (150)\n",
        "             \"https://open.spotify.com/playlist/37i9dQZF1DXbTxeAdrVG2l?si=gOkm5I5STDec7ODDFO_OZg\", # 90's (150)\n",
        "             \"https://open.spotify.com/playlist/37i9dQZF1DX4o1oenSJRJd?si=z3bx_lFzQ2K438fbQoEoGg\", # 00's (150)\n",
        "             \"https://open.spotify.com/playlist/37i9dQZF1DX5Ejj0EkURtP?si=HCuqEq-mQ-ay6qma8VYd8g\", # 10's (150)\n",
        "             \"https://open.spotify.com/playlist/36qQ3naFyPxCbbr7QpdADN?si=SHQ0oRf6R_i1l4UUEFKIAQ\", # classical (330)\n",
        "             \"https://open.spotify.com/playlist/0weizyV5WNZP3tvfXWVfmg?si=vPVW0XxvRnWbzze9Uoq59A\", # hip hop (176)\n",
        "             \"https://open.spotify.com/playlist/37i9dQZF1DWWOaP4H0w5b0?si=w9oke2yERbKAoaXaxOxL2Q\", # metal (60)\n",
        "             \"https://open.spotify.com/playlist/2PjVPkj4a9kBvQIXaZ6UUt?si=v56LFtFvSeyXg-UVi-FeeA\", # opera (73)\n",
        "             \"https://open.spotify.com/playlist/37i9dQZF1DXbITWG1ZJKYt?si=CE6O5NOgTjOK71w5nS_SWQ\", # jazz (150)\n",
        "             \"https://open.spotify.com/playlist/2HQsMPvBpywqOCFPCtcx4a?si=7YJ6EXTATuaTOz3TldWSkA\", # EDM (422)\n",
        "             \"https://open.spotify.com/playlist/0W8KE1NZFTl8gpd7zHoQD2?si=w-ho3k3JRVWqtCNLntCtMw\", # drum & bass (43)\n",
        "             \"https://open.spotify.com/playlist/37i9dQZF1DXbSbnqxMTGx9?si=nBC99_8lTiOhpLCsE3Hptg\", # reggae (60)\n",
        "             \"https://open.spotify.com/playlist/37i9dQZF1DWWU6Rfto8Ppm?si=GVk6CWeiQGWLC0yMsBXe8w\", # reguetón (200)\n",
        "             \"https://open.spotify.com/playlist/4tszLL7NTfLCoIz39Zsiy1?si=a3659ca76c7640a1\", # death metal (1100)\n",
        "             \"https://open.spotify.com/playlist/37i9dQZF1DWUrPBdYfoJvz?si=271dc9e5f948458c\", # ambient (94)\n",
        "             \"https://open.spotify.com/playlist/78s1nKzEo5irL2SJOPuhXe?si=3b24cd80f9544aa8\", # k-pop (51)\n",
        "             \"https://open.spotify.com/playlist/2gndTYyLh1NWGMiuGIwJhN?si=491a0dcdf80a480f\", # deutsche-hits (302)\n",
        "             \"https://open.spotify.com/playlist/37i9dQZF1DX2EiUAL7Wdfc?si=485d469f01b9454e\", # urban latin (100)\n",
        "             \"https://open.spotify.com/playlist/43EKblqJqJtoGXvMbJgFK9?si=cfc3a538b8644678\", #gospel (81)\n",
        "             \"https://open.spotify.com/playlist/37i9dQZF1DXddGd6mP5X2a?si=7ad0ff9146444e63\" #orchestra (100)\n",
        "            ]"
      ]
    },
    {
      "cell_type": "code",
      "execution_count": null,
      "metadata": {
        "id": "ImwVKbOwGGMF"
      },
      "outputs": [],
      "source": [
        "def get_tracks_ids_from_playlist(playlist_id):\n",
        "    \n",
        "    final_results = []\n",
        "    try:\n",
        "        result = sp.playlist_tracks(playlist_id)\n",
        "        final_results.extend(result[\"items\"])\n",
        "    except:\n",
        "        return []\n",
        "    \n",
        "    while result[\"next\"]:\n",
        "        try:\n",
        "            result = sp.next(result)\n",
        "            final_results.extend(result[\"items\"])\n",
        "        except:\n",
        "            pass\n",
        "        \n",
        "    ids = [track[\"track\"][\"id\"] for track in final_results]\n",
        "    \n",
        "    # storing song names\n",
        "    names = [track[\"track\"][\"name\"] for track in final_results]\n",
        "    \n",
        "    # storing song artists\n",
        "    artists = []\n",
        "    for item in final_results:\n",
        "        artists.append([artist[\"name\"] for artist in item[\"track\"][\"artists\"]])\n",
        "\n",
        "    # we return only values that are not None:\n",
        "    return [i for i in ids if i], [i for i in names if i], [i for i in artists if i]\n",
        "\n",
        "def get_audio_features_df(playlist_id):\n",
        "    track_ids, names, artists = get_tracks_ids_from_playlist(playlist_id)\n",
        "    aud_feat = []\n",
        "    for i in range(len(track_ids)):\n",
        "        try:\n",
        "            aud = sp.audio_features(track_ids[i])[0]\n",
        "            aud[\"name\"] = names[i]\n",
        "            aud[\"artist\"] = artists[i]\n",
        "            aud_feat.append(aud)\n",
        "\n",
        "        except:\n",
        "            pass\n",
        "    return pd.DataFrame(aud_feat)\n",
        "\n",
        "def get_big_audio_df(playlists_list):\n",
        "    audio_f_df = pd.DataFrame()\n",
        "    \n",
        "    for p in playlists_list:\n",
        "        audio_f_df = audio_f_df.append(get_audio_features_df(p))\n",
        "\n",
        "    return audio_f_df"
      ]
    },
    {
      "cell_type": "code",
      "execution_count": null,
      "metadata": {
        "id": "aaqB28QQGGMG",
        "outputId": "499d2f18-c903-4815-ffd7-e500a09cc862"
      },
      "outputs": [
        {
          "data": {
            "text/plain": [
              "1387"
            ]
          },
          "execution_count": 79,
          "metadata": {},
          "output_type": "execute_result"
        }
      ],
      "source": [
        "iteration1_audio_feat = get_big_audio_df(playlists1)\n",
        "iteration1_audio_feat[\"artist\"] = iteration1_audio_feat[\"artist\"].str[0]\n",
        "iteration1_audio_feat.set_index([\"name\", \"artist\"], inplace=True)\n",
        "\n",
        "iteration1_audio_feat.drop(\n",
        "    columns=[\"type\", \"uri\", \"track_href\", \"analysis_url\"],\n",
        "    inplace=True)\n",
        "iteration1_audio_feat.to_csv(\"df_audio_features_1000_with_id.csv\", index=True)\n",
        "\n",
        "iteration1_audio_feat.drop(\n",
        "    columns=[\"id\"],\n",
        "    inplace=True)\n",
        "iteration1_audio_feat.to_csv(\"df_audio_features_1000.csv\", index=True)"
      ]
    },
    {
      "cell_type": "code",
      "execution_count": null,
      "metadata": {
        "id": "2SEQKN3AGGMH"
      },
      "outputs": [],
      "source": [
        "big_df_songs_audiofeat = get_big_audio_df(playlists2)\n",
        "big_df_songs_audiofeat[\"artist\"] = big_df_songs_audiofeat[\"artist\"].str[0]\n",
        "big_df_songs_audiofeat.set_index([\"name\", \"artist\"], inplace=True)\n",
        "\n",
        "big_df_songs_audiofeat.drop(\n",
        "    columns=[\"type\", \"uri\", \"track_href\", \"analysis_url\"],\n",
        "    inplace=True)\n",
        "\n",
        "big_df_songs_audiofeat.to_csv(\"df_audio_features_5000_with_id.csv\", index=True)\n",
        "\n",
        "big_df_songs_audiofeat.drop(\n",
        "    columns=[\"id\"],\n",
        "    inplace=True)\n",
        "big_df_songs_audiofeat.to_csv(\"df_audio_features_5000.csv\", index=True)"
      ]
    }
  ],
  "metadata": {
    "kernelspec": {
      "display_name": "Python 3",
      "language": "python",
      "name": "python3"
    },
    "language_info": {
      "codemirror_mode": {
        "name": "ipython",
        "version": 3
      },
      "file_extension": ".py",
      "mimetype": "text/x-python",
      "name": "python",
      "nbconvert_exporter": "python",
      "pygments_lexer": "ipython3",
      "version": "3.8.5"
    },
    "colab": {
      "name": "songs_collection.ipynb",
      "provenance": [],
      "collapsed_sections": []
    }
  },
  "nbformat": 4,
  "nbformat_minor": 0
}